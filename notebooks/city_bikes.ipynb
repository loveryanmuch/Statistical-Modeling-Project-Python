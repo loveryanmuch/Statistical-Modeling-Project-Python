{
 "cells": [
  {
   "cell_type": "markdown",
   "metadata": {},
   "source": [
    "# CityBikes"
   ]
  },
  {
   "cell_type": "markdown",
   "metadata": {},
   "source": [
    "Send a request to CityBikes for the city of your choice. "
   ]
  },
  {
   "cell_type": "code",
   "execution_count": 1,
   "metadata": {},
   "outputs": [
    {
     "name": "stdout",
     "output_type": "stream",
     "text": [
      "       Latitude  Longitude  Number_of_Bikes\n",
      "0     48.865983   2.275725               25\n",
      "1     48.853756   2.339096               21\n",
      "2     48.867872   2.364898                7\n",
      "3     48.856452   2.334852                6\n",
      "4     48.879296   2.337360                4\n",
      "...         ...        ...              ...\n",
      "1450  48.939959   2.327957                2\n",
      "1451  48.923048   2.364443                0\n",
      "1452  48.879143   2.416335                3\n",
      "1453  48.915093   2.357903                2\n",
      "1454  48.863925   2.335623               14\n",
      "\n",
      "[1455 rows x 3 columns]\n"
     ]
    }
   ],
   "source": [
    "import requests\n",
    "import pandas as pd\n",
    "\n",
    "# Endpoint for all networks\n",
    "url_networks = \"http://api.citybik.es/v2/networks\"\n",
    "\n",
    "# Fetch data from the networks endpoint\n",
    "response = requests.get(url_networks)\n",
    "data = response.json()\n",
    "\n",
    "# Extract the 'id' for Paris\n",
    "paris_id = None\n",
    "for network in data['networks']:\n",
    "    if network['location']['city'] == 'Paris':\n",
    "        paris_id = network['id']\n",
    "        break\n",
    "\n",
    "# If Paris is found, fetch station details for Paris\n",
    "if paris_id:\n",
    "    url_paris = f\"http://api.citybik.es/v2/networks/{paris_id}\"\n",
    "    response_paris = requests.get(url_paris)\n",
    "    data_paris = response_paris.json()\n",
    "\n",
    "    stations = data_paris['network']['stations']\n",
    "\n",
    "    # Extract required details: latitude, longitude, and number of bikes\n",
    "    station_details = [{'Latitude': s['latitude'], \n",
    "                        'Longitude': s['longitude'], \n",
    "                        'Number_of_Bikes': s['free_bikes']} for s in stations]\n",
    "\n",
    "    # Convert the data into a Pandas dataframe\n",
    "    df = pd.DataFrame(station_details)\n",
    "    print(df)\n",
    "else:\n",
    "    print(\"Paris not found in the list of networks.\")"
   ]
  },
  {
   "cell_type": "markdown",
   "metadata": {},
   "source": [
    "Parse through the response to get the details you want for the bike stations in that city (latitude, longitude, number of bikes). "
   ]
  },
  {
   "cell_type": "code",
   "execution_count": 2,
   "metadata": {},
   "outputs": [
    {
     "name": "stdout",
     "output_type": "stream",
     "text": [
      "          Latitude    Longitude  Number_of_Bikes\n",
      "count  1455.000000  1455.000000      1455.000000\n",
      "mean     48.858366     2.341104         8.455670\n",
      "std       0.030745     0.056399         8.115691\n",
      "min      48.764615     2.165597         0.000000\n",
      "25%      48.837698     2.302584         3.000000\n",
      "50%      48.858535     2.343822         6.000000\n",
      "75%      48.879525     2.378101        12.000000\n",
      "max      48.951432     2.538242        66.000000\n"
     ]
    }
   ],
   "source": [
    "# the bike stations in Paris.\n",
    "print(df.describe())"
   ]
  },
  {
   "cell_type": "markdown",
   "metadata": {},
   "source": [
    "Put your parsed results into a DataFrame."
   ]
  },
  {
   "cell_type": "code",
   "execution_count": 3,
   "metadata": {},
   "outputs": [],
   "source": [
    "# Save the DataFrame to a CSV or Excel fil\n",
    "df.to_csv('paris_bike_stations.csv', index=False)"
   ]
  }
 ],
 "metadata": {
  "kernelspec": {
   "display_name": "Python 3",
   "language": "python",
   "name": "python3"
  },
  "language_info": {
   "codemirror_mode": {
    "name": "ipython",
    "version": 3
   },
   "file_extension": ".py",
   "mimetype": "text/x-python",
   "name": "python",
   "nbconvert_exporter": "python",
   "pygments_lexer": "ipython3",
   "version": "3.11.5"
  }
 },
 "nbformat": 4,
 "nbformat_minor": 4
}
